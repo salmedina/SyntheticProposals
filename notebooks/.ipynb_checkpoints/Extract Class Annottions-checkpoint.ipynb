{
 "cells": [
  {
   "cell_type": "code",
   "execution_count": null,
   "metadata": {},
   "outputs": [],
   "source": [
    "import json\n",
    "import datetime\n",
    "import numpy as np\n",
    "from glob import glob\n",
    "import os.path as osp\n",
    "from easydict import EasyDict as edict\n",
    "from collections import defaultdict\n",
    "\n",
    "train_path = '/mnt/Alfheim/Data/MEVA/umd_cmu_merge_v3/train'\n",
    "action_output_path = '/home/zal/Devel/SyntheticProposals/data/umd_v3/sitting_down.json'"
   ]
  },
  {
   "cell_type": "markdown",
   "metadata": {},
   "source": [
    "### Extract the annotations for specific action"
   ]
  },
  {
   "cell_type": "code",
   "execution_count": 2,
   "metadata": {},
   "outputs": [],
   "source": [
    "def get_name(input_path):\n",
    "    return osp.splitext(osp.basename(input_path))[0]\n",
    "\n",
    "def get_bbox_from_traj(traj):\n",
    "    bboxes = np.array([bbox for _, bbox in traj.items()])\n",
    "    y1, x1, y2, x2 = [int(np.min(bboxes[:, 0])), \n",
    "                        int(np.min(bboxes[:, 1])), \n",
    "                        int(np.max(bboxes[:, 2])), \n",
    "                        int(np.max(bboxes[:, 3]))]\n",
    "    w, h = x2-x1, y2-y1\n",
    "    cx = x1 + w//2\n",
    "    cy = y1 + h//2\n",
    "    side = w if w > h else h\n",
    "    hside = side//2\n",
    "    return [cy-hside, cx-hside, cy+hside, cx+hside]"
   ]
  },
  {
   "cell_type": "code",
   "execution_count": 3,
   "metadata": {
    "scrolled": true
   },
   "outputs": [
    {
     "name": "stdout",
     "output_type": "stream",
     "text": [
      "Total actions: 315\n",
      "{'start_frame': 195, 'end_frame': 253, 'event_type': 'person_sitting_down', 'video_name': '2018-03-07.16-50-00.16-55-00.bus.G331', 'bbox': [1384, 170, 1738, 524], 'duration': 58}\n"
     ]
    }
   ],
   "source": [
    "action = 'person_sitting_down'\n",
    "action_json = dict()\n",
    "index = 0\n",
    "json_path_list = glob(osp.join(train_path, '*.json'))\n",
    "for path_list in json_path_list:\n",
    "    video_json = edict(json.load(open(path_list)))\n",
    "    for key in video_json.keys():\n",
    "        video_anno = video_json[key]\n",
    "        duration = video_anno.end_frame - video_anno.start_frame\n",
    "        if (video_anno.event_type == action) and (duration < 1000):\n",
    "            action_json[index] = video_anno\n",
    "            action_json[index].video_name = get_name(path_list)\n",
    "            action_json[index].bbox = get_bbox_from_traj(video_anno.trajectory)\n",
    "            action_json[index].duration = action_json[index].end_frame - action_json[index].start_frame\n",
    "            del action_json[index]['objects']\n",
    "            del action_json[index]['trajectory']\n",
    "            index += 1\n",
    "\n",
    "with open(action_output_path, 'w') as output_file:\n",
    "    json.dump(action_json, output_file)\n",
    "\n",
    "print(f'Total actions: {len(action_json)}')\n",
    "# Test the output\n",
    "print(action_json[1])"
   ]
  },
  {
   "cell_type": "markdown",
   "metadata": {},
   "source": [
    "### Extract Frames"
   ]
  },
  {
   "cell_type": "code",
   "execution_count": 4,
   "metadata": {},
   "outputs": [],
   "source": [
    "import os\n",
    "import imageio\n",
    "from PIL import Image\n",
    "\n",
    "video_dir ='/mnt/Alfheim/Data/MEVA/umd_cmu_merge_v3/videos'\n",
    "output_frames_dir = '/mnt/Alfheim/Data/MEVA/umd_cmu_merge_v3/proposals/frames'"
   ]
  },
  {
   "cell_type": "code",
   "execution_count": 5,
   "metadata": {},
   "outputs": [],
   "source": [
    "def extract_frames(video_path, bbox, start_frame, end_frame, output_dir):\n",
    "    video_reader = imageio.get_reader(video_path)\n",
    "    for frame_idx, frame_arr in enumerate(video_reader):\n",
    "        if frame_idx > end_frame:\n",
    "            break\n",
    "        if (frame_idx >= start_frame) and (frame_idx <= end_frame):\n",
    "            Image.fromarray(frame_arr).crop(bbox).save(osp.join(output_dir, f'{frame_idx}.png'))"
   ]
  },
  {
   "cell_type": "code",
   "execution_count": null,
   "metadata": {
    "scrolled": true
   },
   "outputs": [
    {
     "name": "stdout",
     "output_type": "stream",
     "text": [
      "131 63 /mnt/Alfheim/Data/MEVA/umd_cmu_merge_v3/proposals/frames/2018-03-07_16-50-00_16-55-00_bus_G331_0\n",
      "195 58 /mnt/Alfheim/Data/MEVA/umd_cmu_merge_v3/proposals/frames/2018-03-07_16-50-00_16-55-00_bus_G331_1\n",
      "1757 76 /mnt/Alfheim/Data/MEVA/umd_cmu_merge_v3/proposals/frames/2018-03-07_16-50-00_16-55-00_bus_G331_2\n",
      "1769 31 /mnt/Alfheim/Data/MEVA/umd_cmu_merge_v3/proposals/frames/2018-03-07_16-50-00_16-55-00_bus_G331_3\n",
      "2192 20 /mnt/Alfheim/Data/MEVA/umd_cmu_merge_v3/proposals/frames/2018-03-07_16-50-00_16-55-00_bus_G331_4\n",
      "2213 77 /mnt/Alfheim/Data/MEVA/umd_cmu_merge_v3/proposals/frames/2018-03-07_16-50-00_16-55-00_bus_G331_5\n",
      "3426 50 /mnt/Alfheim/Data/MEVA/umd_cmu_merge_v3/proposals/frames/2018-03-07_16-50-00_16-55-00_bus_G331_6\n",
      "3709 81 /mnt/Alfheim/Data/MEVA/umd_cmu_merge_v3/proposals/frames/2018-03-07_16-50-00_16-55-00_bus_G331_7\n",
      "6771 65 /mnt/Alfheim/Data/MEVA/umd_cmu_merge_v3/proposals/frames/2018-03-07_16-50-00_16-55-00_bus_G331_8\n",
      "7276 43 /mnt/Alfheim/Data/MEVA/umd_cmu_merge_v3/proposals/frames/2018-03-07_16-50-00_16-55-00_bus_G331_9\n",
      "2054 12 /mnt/Alfheim/Data/MEVA/umd_cmu_merge_v3/proposals/frames/2018-03-07_16-55-00_17-00-00_bus_G331_10\n",
      "2067 57 /mnt/Alfheim/Data/MEVA/umd_cmu_merge_v3/proposals/frames/2018-03-07_16-55-00_17-00-00_bus_G331_11\n",
      "2073 60 /mnt/Alfheim/Data/MEVA/umd_cmu_merge_v3/proposals/frames/2018-03-07_16-55-00_17-00-00_bus_G331_12\n",
      "2298 83 /mnt/Alfheim/Data/MEVA/umd_cmu_merge_v3/proposals/frames/2018-03-07_16-55-00_17-00-00_bus_G331_13\n",
      "3750 67 /mnt/Alfheim/Data/MEVA/umd_cmu_merge_v3/proposals/frames/2018-03-07_16-55-00_17-00-00_bus_G331_14\n",
      "4079 96 /mnt/Alfheim/Data/MEVA/umd_cmu_merge_v3/proposals/frames/2018-03-07_16-55-00_17-00-00_bus_G331_15\n",
      "4358 78 /mnt/Alfheim/Data/MEVA/umd_cmu_merge_v3/proposals/frames/2018-03-07_16-55-00_17-00-00_bus_G331_16\n",
      "4373 116 /mnt/Alfheim/Data/MEVA/umd_cmu_merge_v3/proposals/frames/2018-03-07_16-55-00_17-00-00_bus_G331_17\n",
      "4473 533 /mnt/Alfheim/Data/MEVA/umd_cmu_merge_v3/proposals/frames/2018-03-07_16-55-00_17-00-00_bus_G331_18\n",
      "4490 42 /mnt/Alfheim/Data/MEVA/umd_cmu_merge_v3/proposals/frames/2018-03-07_16-55-00_17-00-00_bus_G331_19\n",
      "4599 41 /mnt/Alfheim/Data/MEVA/umd_cmu_merge_v3/proposals/frames/2018-03-07_16-55-00_17-00-00_bus_G331_20\n",
      "4641 78 /mnt/Alfheim/Data/MEVA/umd_cmu_merge_v3/proposals/frames/2018-03-07_16-55-00_17-00-00_bus_G331_21\n",
      "4900 68 /mnt/Alfheim/Data/MEVA/umd_cmu_merge_v3/proposals/frames/2018-03-07_16-55-00_17-00-00_bus_G331_22\n",
      "4911 68 /mnt/Alfheim/Data/MEVA/umd_cmu_merge_v3/proposals/frames/2018-03-07_16-55-00_17-00-00_bus_G331_23\n",
      "4969 17 /mnt/Alfheim/Data/MEVA/umd_cmu_merge_v3/proposals/frames/2018-03-07_16-55-00_17-00-00_bus_G331_24\n",
      "8269 46 /mnt/Alfheim/Data/MEVA/umd_cmu_merge_v3/proposals/frames/2018-03-07_16-55-00_17-00-00_bus_G331_25\n",
      "1206 85 /mnt/Alfheim/Data/MEVA/umd_cmu_merge_v3/proposals/frames/2018-03-09_10-25-00_10-30-00_school_G330_26\n",
      "1292 26 /mnt/Alfheim/Data/MEVA/umd_cmu_merge_v3/proposals/frames/2018-03-09_10-25-00_10-30-00_school_G330_27\n",
      "1844 96 /mnt/Alfheim/Data/MEVA/umd_cmu_merge_v3/proposals/frames/2018-03-09_10-25-00_10-30-00_school_G330_28\n",
      "1872 90 /mnt/Alfheim/Data/MEVA/umd_cmu_merge_v3/proposals/frames/2018-03-09_10-25-00_10-30-00_school_G330_29\n",
      "2181 288 /mnt/Alfheim/Data/MEVA/umd_cmu_merge_v3/proposals/frames/2018-03-09_10-25-00_10-30-00_school_G330_30\n",
      "2951 62 /mnt/Alfheim/Data/MEVA/umd_cmu_merge_v3/proposals/frames/2018-03-09_10-25-00_10-30-00_school_G330_31\n",
      "3014 181 /mnt/Alfheim/Data/MEVA/umd_cmu_merge_v3/proposals/frames/2018-03-09_10-25-00_10-30-00_school_G330_32\n",
      "4787 199 /mnt/Alfheim/Data/MEVA/umd_cmu_merge_v3/proposals/frames/2018-03-09_10-25-00_10-30-00_school_G330_33\n",
      "6857 122 /mnt/Alfheim/Data/MEVA/umd_cmu_merge_v3/proposals/frames/2018-03-09_10-25-00_10-30-00_school_G330_34\n",
      "6867 31 /mnt/Alfheim/Data/MEVA/umd_cmu_merge_v3/proposals/frames/2018-03-09_10-25-00_10-30-00_school_G330_35\n",
      "8559 150 /mnt/Alfheim/Data/MEVA/umd_cmu_merge_v3/proposals/frames/2018-03-09_10-25-00_10-30-00_school_G330_36\n",
      "3169 50 /mnt/Alfheim/Data/MEVA/umd_cmu_merge_v3/proposals/frames/2018-03-09_10-35-00_10-39-59_school_G330_37\n",
      "1909 91 /mnt/Alfheim/Data/MEVA/umd_cmu_merge_v3/proposals/frames/2018-03-09_10-35-00_10-39-59_school_G330_38\n",
      "3482 50 /mnt/Alfheim/Data/MEVA/umd_cmu_merge_v3/proposals/frames/2018-03-09_10-35-00_10-39-59_school_G330_39\n",
      "3036 50 /mnt/Alfheim/Data/MEVA/umd_cmu_merge_v3/proposals/frames/2018-03-09_10-35-00_10-39-59_school_G330_40\n",
      "3472 52 /mnt/Alfheim/Data/MEVA/umd_cmu_merge_v3/proposals/frames/2018-03-09_10-35-00_10-39-59_school_G330_41\n",
      "3508 45 /mnt/Alfheim/Data/MEVA/umd_cmu_merge_v3/proposals/frames/2018-03-09_10-35-00_10-39-59_school_G330_42\n",
      "899 44 /mnt/Alfheim/Data/MEVA/umd_cmu_merge_v3/proposals/frames/2018-03-07_17-30-00_17-35-00_bus_G331_43\n"
     ]
    },
    {
     "name": "stderr",
     "output_type": "stream",
     "text": [
      "Exception ignored in: <function Format._BaseReaderWriter.__del__ at 0x7f78b24179e0>\n",
      "Traceback (most recent call last):\n",
      "  File \"/home/zal/anaconda3/envs/amass/lib/python3.7/site-packages/imageio/core/format.py\", line 241, in __del__\n",
      "    self.close()\n",
      "  File \"/home/zal/anaconda3/envs/amass/lib/python3.7/site-packages/imageio/core/format.py\", line 252, in close\n",
      "    self._close()\n",
      "  File \"/home/zal/anaconda3/envs/amass/lib/python3.7/site-packages/imageio/plugins/ffmpeg.py\", line 342, in _close\n",
      "    self._read_gen.close()\n",
      "  File \"/home/zal/anaconda3/envs/amass/lib/python3.7/site-packages/imageio_ffmpeg/_io.py\", line 193, in read_frames\n",
      "    p.communicate(b\"q\")\n",
      "  File \"/home/zal/anaconda3/envs/amass/lib/python3.7/subprocess.py\", line 939, in communicate\n",
      "    stdout, stderr = self._communicate(input, endtime, timeout)\n",
      "  File \"/home/zal/anaconda3/envs/amass/lib/python3.7/subprocess.py\", line 1701, in _communicate\n",
      "    data = os.read(key.fd, 32768)\n",
      "KeyboardInterrupt: \n"
     ]
    },
    {
     "name": "stdout",
     "output_type": "stream",
     "text": [
      "1355 104 /mnt/Alfheim/Data/MEVA/umd_cmu_merge_v3/proposals/frames/2018-03-07_17-30-00_17-35-00_bus_G331_44\n",
      "1605 57 /mnt/Alfheim/Data/MEVA/umd_cmu_merge_v3/proposals/frames/2018-03-07_17-30-00_17-35-00_bus_G331_45\n",
      "1803 49 /mnt/Alfheim/Data/MEVA/umd_cmu_merge_v3/proposals/frames/2018-03-07_17-30-00_17-35-00_bus_G331_46\n",
      "1841 75 /mnt/Alfheim/Data/MEVA/umd_cmu_merge_v3/proposals/frames/2018-03-07_17-30-00_17-35-00_bus_G331_47\n",
      "2199 64 /mnt/Alfheim/Data/MEVA/umd_cmu_merge_v3/proposals/frames/2018-03-07_17-30-00_17-35-00_bus_G331_48\n",
      "2724 33 /mnt/Alfheim/Data/MEVA/umd_cmu_merge_v3/proposals/frames/2018-03-07_17-30-00_17-35-00_bus_G331_49\n",
      "3050 92 /mnt/Alfheim/Data/MEVA/umd_cmu_merge_v3/proposals/frames/2018-03-07_17-30-00_17-35-00_bus_G331_50\n",
      "3143 70 /mnt/Alfheim/Data/MEVA/umd_cmu_merge_v3/proposals/frames/2018-03-07_17-30-00_17-35-00_bus_G331_51\n",
      "3597 38 /mnt/Alfheim/Data/MEVA/umd_cmu_merge_v3/proposals/frames/2018-03-07_17-30-00_17-35-00_bus_G331_52\n",
      "4518 149 /mnt/Alfheim/Data/MEVA/umd_cmu_merge_v3/proposals/frames/2018-03-07_17-30-00_17-35-00_bus_G331_53\n",
      "4711 40 /mnt/Alfheim/Data/MEVA/umd_cmu_merge_v3/proposals/frames/2018-03-07_17-30-00_17-35-00_bus_G331_54\n",
      "5312 153 /mnt/Alfheim/Data/MEVA/umd_cmu_merge_v3/proposals/frames/2018-03-07_17-30-00_17-35-00_bus_G331_55\n",
      "5415 129 /mnt/Alfheim/Data/MEVA/umd_cmu_merge_v3/proposals/frames/2018-03-07_17-30-00_17-35-00_bus_G331_56\n",
      "7612 85 /mnt/Alfheim/Data/MEVA/umd_cmu_merge_v3/proposals/frames/2018-03-07_17-30-00_17-35-00_bus_G331_57\n",
      "7916 111 /mnt/Alfheim/Data/MEVA/umd_cmu_merge_v3/proposals/frames/2018-03-07_17-30-00_17-35-00_bus_G331_58\n",
      "6350 47 /mnt/Alfheim/Data/MEVA/umd_cmu_merge_v3/proposals/frames/2018-03-07_17-30-00_17-35-00_bus_G508_59\n"
     ]
    },
    {
     "name": "stderr",
     "output_type": "stream",
     "text": [
      "Exception ignored in: <function Format._BaseReaderWriter.__del__ at 0x7f78b24179e0>\n",
      "Traceback (most recent call last):\n",
      "  File \"/home/zal/anaconda3/envs/amass/lib/python3.7/site-packages/imageio/core/format.py\", line 241, in __del__\n",
      "    self.close()\n",
      "  File \"/home/zal/anaconda3/envs/amass/lib/python3.7/site-packages/imageio/core/format.py\", line 252, in close\n",
      "    self._close()\n",
      "  File \"/home/zal/anaconda3/envs/amass/lib/python3.7/site-packages/imageio/plugins/ffmpeg.py\", line 342, in _close\n",
      "    self._read_gen.close()\n",
      "  File \"/home/zal/anaconda3/envs/amass/lib/python3.7/site-packages/imageio_ffmpeg/_io.py\", line 193, in read_frames\n",
      "    p.communicate(b\"q\")\n",
      "  File \"/home/zal/anaconda3/envs/amass/lib/python3.7/subprocess.py\", line 939, in communicate\n",
      "    stdout, stderr = self._communicate(input, endtime, timeout)\n",
      "  File \"/home/zal/anaconda3/envs/amass/lib/python3.7/subprocess.py\", line 1701, in _communicate\n",
      "    data = os.read(key.fd, 32768)\n",
      "KeyboardInterrupt: \n"
     ]
    },
    {
     "name": "stdout",
     "output_type": "stream",
     "text": [
      "6412 71 /mnt/Alfheim/Data/MEVA/umd_cmu_merge_v3/proposals/frames/2018-03-07_17-30-00_17-35-00_bus_G508_60\n",
      "7384 80 /mnt/Alfheim/Data/MEVA/umd_cmu_merge_v3/proposals/frames/2018-03-11_16-15-00_16-20-00_school_G330_61\n"
     ]
    },
    {
     "name": "stderr",
     "output_type": "stream",
     "text": [
      "Exception ignored in: <function Format._BaseReaderWriter.__del__ at 0x7f78b24179e0>\n",
      "Traceback (most recent call last):\n",
      "  File \"/home/zal/anaconda3/envs/amass/lib/python3.7/site-packages/imageio/core/format.py\", line 241, in __del__\n",
      "    self.close()\n",
      "  File \"/home/zal/anaconda3/envs/amass/lib/python3.7/site-packages/imageio/core/format.py\", line 252, in close\n",
      "    self._close()\n",
      "  File \"/home/zal/anaconda3/envs/amass/lib/python3.7/site-packages/imageio/plugins/ffmpeg.py\", line 342, in _close\n",
      "    self._read_gen.close()\n",
      "  File \"/home/zal/anaconda3/envs/amass/lib/python3.7/site-packages/imageio_ffmpeg/_io.py\", line 193, in read_frames\n",
      "    p.communicate(b\"q\")\n",
      "  File \"/home/zal/anaconda3/envs/amass/lib/python3.7/subprocess.py\", line 939, in communicate\n",
      "    stdout, stderr = self._communicate(input, endtime, timeout)\n",
      "  File \"/home/zal/anaconda3/envs/amass/lib/python3.7/subprocess.py\", line 1701, in _communicate\n",
      "    data = os.read(key.fd, 32768)\n",
      "KeyboardInterrupt: \n"
     ]
    },
    {
     "name": "stdout",
     "output_type": "stream",
     "text": [
      "7731 75 /mnt/Alfheim/Data/MEVA/umd_cmu_merge_v3/proposals/frames/2018-03-11_16-15-00_16-20-00_school_G330_62\n",
      "8086 50 /mnt/Alfheim/Data/MEVA/umd_cmu_merge_v3/proposals/frames/2018-03-11_16-15-00_16-20-00_school_G330_63\n",
      "1016 40 /mnt/Alfheim/Data/MEVA/umd_cmu_merge_v3/proposals/frames/2018-03-15_14-55-00_15-00-00_bus_G331_64\n",
      "2674 69 /mnt/Alfheim/Data/MEVA/umd_cmu_merge_v3/proposals/frames/2018-03-15_14-55-00_15-00-00_bus_G331_65\n",
      "2895 38 /mnt/Alfheim/Data/MEVA/umd_cmu_merge_v3/proposals/frames/2018-03-15_14-55-00_15-00-00_bus_G331_66\n",
      "3639 46 /mnt/Alfheim/Data/MEVA/umd_cmu_merge_v3/proposals/frames/2018-03-15_14-55-00_15-00-00_bus_G331_67\n",
      "5136 12 /mnt/Alfheim/Data/MEVA/umd_cmu_merge_v3/proposals/frames/2018-03-15_14-55-00_15-00-00_bus_G331_68\n",
      "5207 42 /mnt/Alfheim/Data/MEVA/umd_cmu_merge_v3/proposals/frames/2018-03-15_14-55-00_15-00-00_bus_G331_69\n"
     ]
    },
    {
     "name": "stderr",
     "output_type": "stream",
     "text": [
      "Exception ignored in: <function Format._BaseReaderWriter.__del__ at 0x7f78b24179e0>\n",
      "Traceback (most recent call last):\n",
      "  File \"/home/zal/anaconda3/envs/amass/lib/python3.7/site-packages/imageio/core/format.py\", line 241, in __del__\n",
      "    self.close()\n",
      "  File \"/home/zal/anaconda3/envs/amass/lib/python3.7/site-packages/imageio/core/format.py\", line 252, in close\n",
      "    self._close()\n",
      "  File \"/home/zal/anaconda3/envs/amass/lib/python3.7/site-packages/imageio/plugins/ffmpeg.py\", line 342, in _close\n",
      "    self._read_gen.close()\n",
      "  File \"/home/zal/anaconda3/envs/amass/lib/python3.7/site-packages/imageio_ffmpeg/_io.py\", line 193, in read_frames\n",
      "    p.communicate(b\"q\")\n",
      "  File \"/home/zal/anaconda3/envs/amass/lib/python3.7/subprocess.py\", line 939, in communicate\n",
      "    stdout, stderr = self._communicate(input, endtime, timeout)\n",
      "  File \"/home/zal/anaconda3/envs/amass/lib/python3.7/subprocess.py\", line 1701, in _communicate\n",
      "    data = os.read(key.fd, 32768)\n",
      "KeyboardInterrupt: \n"
     ]
    },
    {
     "name": "stdout",
     "output_type": "stream",
     "text": [
      "997 59 /mnt/Alfheim/Data/MEVA/umd_cmu_merge_v3/proposals/frames/2018-03-15_14-55-00_15-00-00_bus_G331_70\n",
      "997 59 /mnt/Alfheim/Data/MEVA/umd_cmu_merge_v3/proposals/frames/2018-03-15_14-55-00_15-00-00_bus_G331_71\n",
      "1073 106 /mnt/Alfheim/Data/MEVA/umd_cmu_merge_v3/proposals/frames/2018-03-12_10-55-00_11-00-00_school_G330_72\n",
      "6687 89 /mnt/Alfheim/Data/MEVA/umd_cmu_merge_v3/proposals/frames/2018-03-12_10-55-00_11-00-00_school_G330_73\n",
      "1859 103 /mnt/Alfheim/Data/MEVA/umd_cmu_merge_v3/proposals/frames/2018-03-12_10-55-00_11-00-00_school_G330_74\n",
      "1358 66 /mnt/Alfheim/Data/MEVA/umd_cmu_merge_v3/proposals/frames/2018-03-12_10-55-00_11-00-00_school_G330_75\n",
      "5440 86 /mnt/Alfheim/Data/MEVA/umd_cmu_merge_v3/proposals/frames/2018-03-12_10-55-00_11-00-00_school_G330_76\n",
      "5627 64 /mnt/Alfheim/Data/MEVA/umd_cmu_merge_v3/proposals/frames/2018-03-12_10-55-00_11-00-00_school_G330_77\n",
      "7316 75 /mnt/Alfheim/Data/MEVA/umd_cmu_merge_v3/proposals/frames/2018-03-12_10-55-00_11-00-00_school_G330_78\n",
      "2323 78 /mnt/Alfheim/Data/MEVA/umd_cmu_merge_v3/proposals/frames/2018-03-12_11-00-00_11-05-00_school_G330_79\n",
      "3152 60 /mnt/Alfheim/Data/MEVA/umd_cmu_merge_v3/proposals/frames/2018-03-12_11-00-00_11-05-00_school_G330_80\n",
      "10 54 /mnt/Alfheim/Data/MEVA/umd_cmu_merge_v3/proposals/frames/2018-03-12_11-00-00_11-05-00_school_G330_81\n",
      "1345 37 /mnt/Alfheim/Data/MEVA/umd_cmu_merge_v3/proposals/frames/2018-03-12_11-00-00_11-05-00_school_G330_82\n",
      "8912 74 /mnt/Alfheim/Data/MEVA/umd_cmu_merge_v3/proposals/frames/2018-03-09_10-10-00_10-15-00_school_G330_83\n",
      "8987 11 /mnt/Alfheim/Data/MEVA/umd_cmu_merge_v3/proposals/frames/2018-03-09_10-10-00_10-15-00_school_G330_84\n",
      "931 8 /mnt/Alfheim/Data/MEVA/umd_cmu_merge_v3/proposals/frames/2018-03-07_17-05-00_17-10-00_bus_G331_85\n"
     ]
    },
    {
     "name": "stderr",
     "output_type": "stream",
     "text": [
      "Exception ignored in: <function Format._BaseReaderWriter.__del__ at 0x7f78b24179e0>\n",
      "Traceback (most recent call last):\n",
      "  File \"/home/zal/anaconda3/envs/amass/lib/python3.7/site-packages/imageio/core/format.py\", line 241, in __del__\n",
      "    self.close()\n",
      "  File \"/home/zal/anaconda3/envs/amass/lib/python3.7/site-packages/imageio/core/format.py\", line 252, in close\n",
      "    self._close()\n",
      "  File \"/home/zal/anaconda3/envs/amass/lib/python3.7/site-packages/imageio/plugins/ffmpeg.py\", line 342, in _close\n",
      "    self._read_gen.close()\n",
      "  File \"/home/zal/anaconda3/envs/amass/lib/python3.7/site-packages/imageio_ffmpeg/_io.py\", line 193, in read_frames\n",
      "    p.communicate(b\"q\")\n",
      "  File \"/home/zal/anaconda3/envs/amass/lib/python3.7/subprocess.py\", line 939, in communicate\n",
      "    stdout, stderr = self._communicate(input, endtime, timeout)\n",
      "  File \"/home/zal/anaconda3/envs/amass/lib/python3.7/subprocess.py\", line 1701, in _communicate\n",
      "    data = os.read(key.fd, 32768)\n",
      "KeyboardInterrupt: \n"
     ]
    },
    {
     "name": "stdout",
     "output_type": "stream",
     "text": [
      "2746 75 /mnt/Alfheim/Data/MEVA/umd_cmu_merge_v3/proposals/frames/2018-03-07_17-05-00_17-10-00_bus_G331_86\n",
      "3098 104 /mnt/Alfheim/Data/MEVA/umd_cmu_merge_v3/proposals/frames/2018-03-07_17-05-00_17-10-00_bus_G331_87\n"
     ]
    },
    {
     "name": "stderr",
     "output_type": "stream",
     "text": [
      "Exception ignored in: <function Format._BaseReaderWriter.__del__ at 0x7f78b24179e0>\n",
      "Traceback (most recent call last):\n",
      "  File \"/home/zal/anaconda3/envs/amass/lib/python3.7/site-packages/imageio/core/format.py\", line 241, in __del__\n",
      "    self.close()\n",
      "  File \"/home/zal/anaconda3/envs/amass/lib/python3.7/site-packages/imageio/core/format.py\", line 252, in close\n",
      "    self._close()\n",
      "  File \"/home/zal/anaconda3/envs/amass/lib/python3.7/site-packages/imageio/plugins/ffmpeg.py\", line 342, in _close\n",
      "    self._read_gen.close()\n",
      "  File \"/home/zal/anaconda3/envs/amass/lib/python3.7/site-packages/imageio_ffmpeg/_io.py\", line 193, in read_frames\n",
      "    p.communicate(b\"q\")\n",
      "  File \"/home/zal/anaconda3/envs/amass/lib/python3.7/subprocess.py\", line 939, in communicate\n",
      "    stdout, stderr = self._communicate(input, endtime, timeout)\n",
      "  File \"/home/zal/anaconda3/envs/amass/lib/python3.7/subprocess.py\", line 1701, in _communicate\n",
      "    data = os.read(key.fd, 32768)\n",
      "KeyboardInterrupt: \n"
     ]
    },
    {
     "name": "stdout",
     "output_type": "stream",
     "text": [
      "333 39 /mnt/Alfheim/Data/MEVA/umd_cmu_merge_v3/proposals/frames/2018-03-15_15-05-00_15-10-00_bus_G331_88\n",
      "989 66 /mnt/Alfheim/Data/MEVA/umd_cmu_merge_v3/proposals/frames/2018-03-15_15-05-00_15-10-00_bus_G331_89\n",
      "2483 35 /mnt/Alfheim/Data/MEVA/umd_cmu_merge_v3/proposals/frames/2018-03-15_15-05-00_15-10-00_bus_G331_90\n",
      "3093 37 /mnt/Alfheim/Data/MEVA/umd_cmu_merge_v3/proposals/frames/2018-03-15_15-05-00_15-10-00_bus_G331_91\n",
      "3278 51 /mnt/Alfheim/Data/MEVA/umd_cmu_merge_v3/proposals/frames/2018-03-15_15-05-00_15-10-00_bus_G331_92\n",
      "4367 49 /mnt/Alfheim/Data/MEVA/umd_cmu_merge_v3/proposals/frames/2018-03-15_15-05-00_15-10-00_bus_G331_93\n",
      "5666 28 /mnt/Alfheim/Data/MEVA/umd_cmu_merge_v3/proposals/frames/2018-03-15_15-05-00_15-10-00_bus_G331_94\n",
      "8319 81 /mnt/Alfheim/Data/MEVA/umd_cmu_merge_v3/proposals/frames/2018-03-15_15-05-00_15-10-00_bus_G331_95\n",
      "3182 72 /mnt/Alfheim/Data/MEVA/umd_cmu_merge_v3/proposals/frames/2018-03-15_15-05-00_15-10-00_bus_G331_96\n",
      "4139 81 /mnt/Alfheim/Data/MEVA/umd_cmu_merge_v3/proposals/frames/2018-03-15_15-10-00_15-15-00_bus_G331_97\n",
      "4581 58 /mnt/Alfheim/Data/MEVA/umd_cmu_merge_v3/proposals/frames/2018-03-15_15-10-00_15-15-00_bus_G331_98\n"
     ]
    },
    {
     "name": "stderr",
     "output_type": "stream",
     "text": [
      "Exception ignored in: <function Format._BaseReaderWriter.__del__ at 0x7f78b24179e0>\n",
      "Traceback (most recent call last):\n",
      "  File \"/home/zal/anaconda3/envs/amass/lib/python3.7/site-packages/imageio/core/format.py\", line 241, in __del__\n",
      "    self.close()\n",
      "  File \"/home/zal/anaconda3/envs/amass/lib/python3.7/site-packages/imageio/core/format.py\", line 252, in close\n",
      "    self._close()\n",
      "  File \"/home/zal/anaconda3/envs/amass/lib/python3.7/site-packages/imageio/plugins/ffmpeg.py\", line 342, in _close\n",
      "    self._read_gen.close()\n",
      "  File \"/home/zal/anaconda3/envs/amass/lib/python3.7/site-packages/imageio_ffmpeg/_io.py\", line 193, in read_frames\n",
      "    p.communicate(b\"q\")\n",
      "  File \"/home/zal/anaconda3/envs/amass/lib/python3.7/subprocess.py\", line 939, in communicate\n",
      "    stdout, stderr = self._communicate(input, endtime, timeout)\n",
      "  File \"/home/zal/anaconda3/envs/amass/lib/python3.7/subprocess.py\", line 1701, in _communicate\n",
      "    data = os.read(key.fd, 32768)\n",
      "KeyboardInterrupt: \n"
     ]
    },
    {
     "name": "stdout",
     "output_type": "stream",
     "text": [
      "6146 67 /mnt/Alfheim/Data/MEVA/umd_cmu_merge_v3/proposals/frames/2018-03-15_15-10-00_15-15-00_bus_G331_99\n",
      "7338 75 /mnt/Alfheim/Data/MEVA/umd_cmu_merge_v3/proposals/frames/2018-03-15_15-10-00_15-15-00_bus_G331_100\n",
      "7442 39 /mnt/Alfheim/Data/MEVA/umd_cmu_merge_v3/proposals/frames/2018-03-15_15-10-00_15-15-00_bus_G331_101\n",
      "6577 40 /mnt/Alfheim/Data/MEVA/umd_cmu_merge_v3/proposals/frames/2018-03-15_15-10-00_15-15-00_bus_G331_102\n",
      "298 31 /mnt/Alfheim/Data/MEVA/umd_cmu_merge_v3/proposals/frames/2018-03-15_15-10-00_15-15-00_bus_G331_103\n",
      "359 77 /mnt/Alfheim/Data/MEVA/umd_cmu_merge_v3/proposals/frames/2018-03-15_15-10-00_15-15-00_bus_G331_104\n",
      "1733 48 /mnt/Alfheim/Data/MEVA/umd_cmu_merge_v3/proposals/frames/2018-03-15_15-10-00_15-15-00_bus_G331_105\n",
      "2925 45 /mnt/Alfheim/Data/MEVA/umd_cmu_merge_v3/proposals/frames/2018-03-15_15-15-00_15-20-00_bus_G331_106\n",
      "3745 51 /mnt/Alfheim/Data/MEVA/umd_cmu_merge_v3/proposals/frames/2018-03-15_15-15-00_15-20-00_bus_G331_107\n",
      "323 94 /mnt/Alfheim/Data/MEVA/umd_cmu_merge_v3/proposals/frames/2018-03-15_15-15-00_15-20-00_bus_G331_108\n",
      "7442 44 /mnt/Alfheim/Data/MEVA/umd_cmu_merge_v3/proposals/frames/2018-03-15_15-15-00_15-20-00_bus_G331_109\n",
      "8226 42 /mnt/Alfheim/Data/MEVA/umd_cmu_merge_v3/proposals/frames/2018-03-15_15-15-00_15-20-00_bus_G331_110\n"
     ]
    },
    {
     "name": "stderr",
     "output_type": "stream",
     "text": [
      "Exception ignored in: <function Format._BaseReaderWriter.__del__ at 0x7f78b24179e0>\n",
      "Traceback (most recent call last):\n",
      "  File \"/home/zal/anaconda3/envs/amass/lib/python3.7/site-packages/imageio/core/format.py\", line 241, in __del__\n",
      "    self.close()\n",
      "  File \"/home/zal/anaconda3/envs/amass/lib/python3.7/site-packages/imageio/core/format.py\", line 252, in close\n",
      "    self._close()\n",
      "  File \"/home/zal/anaconda3/envs/amass/lib/python3.7/site-packages/imageio/plugins/ffmpeg.py\", line 342, in _close\n",
      "    self._read_gen.close()\n",
      "  File \"/home/zal/anaconda3/envs/amass/lib/python3.7/site-packages/imageio_ffmpeg/_io.py\", line 193, in read_frames\n",
      "    p.communicate(b\"q\")\n",
      "  File \"/home/zal/anaconda3/envs/amass/lib/python3.7/subprocess.py\", line 939, in communicate\n",
      "    stdout, stderr = self._communicate(input, endtime, timeout)\n",
      "  File \"/home/zal/anaconda3/envs/amass/lib/python3.7/subprocess.py\", line 1701, in _communicate\n",
      "    data = os.read(key.fd, 32768)\n",
      "KeyboardInterrupt: \n"
     ]
    },
    {
     "name": "stdout",
     "output_type": "stream",
     "text": [
      "5259 108 /mnt/Alfheim/Data/MEVA/umd_cmu_merge_v3/proposals/frames/2018-03-15_15-30-00_15-35-00_bus_G331_111\n",
      "5407 55 /mnt/Alfheim/Data/MEVA/umd_cmu_merge_v3/proposals/frames/2018-03-15_15-30-00_15-35-00_bus_G331_112\n",
      "501 31 /mnt/Alfheim/Data/MEVA/umd_cmu_merge_v3/proposals/frames/2018-03-15_15-30-00_15-35-00_bus_G331_113\n",
      "5259 217 /mnt/Alfheim/Data/MEVA/umd_cmu_merge_v3/proposals/frames/2018-03-15_15-30-00_15-35-00_bus_G331_114\n",
      "4398 37 /mnt/Alfheim/Data/MEVA/umd_cmu_merge_v3/proposals/frames/2018-03-15_15-30-00_15-35-00_bus_G508_115\n"
     ]
    },
    {
     "name": "stderr",
     "output_type": "stream",
     "text": [
      "Exception ignored in: <function Format._BaseReaderWriter.__del__ at 0x7f78b24179e0>\n",
      "Traceback (most recent call last):\n",
      "  File \"/home/zal/anaconda3/envs/amass/lib/python3.7/site-packages/imageio/core/format.py\", line 241, in __del__\n",
      "    self.close()\n",
      "  File \"/home/zal/anaconda3/envs/amass/lib/python3.7/site-packages/imageio/core/format.py\", line 252, in close\n",
      "    self._close()\n",
      "  File \"/home/zal/anaconda3/envs/amass/lib/python3.7/site-packages/imageio/plugins/ffmpeg.py\", line 342, in _close\n",
      "    self._read_gen.close()\n",
      "  File \"/home/zal/anaconda3/envs/amass/lib/python3.7/site-packages/imageio_ffmpeg/_io.py\", line 193, in read_frames\n",
      "    p.communicate(b\"q\")\n",
      "  File \"/home/zal/anaconda3/envs/amass/lib/python3.7/subprocess.py\", line 939, in communicate\n",
      "    stdout, stderr = self._communicate(input, endtime, timeout)\n",
      "  File \"/home/zal/anaconda3/envs/amass/lib/python3.7/subprocess.py\", line 1701, in _communicate\n",
      "    data = os.read(key.fd, 32768)\n",
      "KeyboardInterrupt: \n"
     ]
    },
    {
     "name": "stdout",
     "output_type": "stream",
     "text": [
      "1470 59 /mnt/Alfheim/Data/MEVA/umd_cmu_merge_v3/proposals/frames/2018-03-15_15-35-00_15-40-00_bus_G331_116\n",
      "1506 65 /mnt/Alfheim/Data/MEVA/umd_cmu_merge_v3/proposals/frames/2018-03-15_15-35-00_15-40-00_bus_G331_117\n",
      "7276 82 /mnt/Alfheim/Data/MEVA/umd_cmu_merge_v3/proposals/frames/2018-03-15_15-35-00_15-40-00_bus_G331_118\n"
     ]
    },
    {
     "name": "stderr",
     "output_type": "stream",
     "text": [
      "Exception ignored in: <function Format._BaseReaderWriter.__del__ at 0x7f78b24179e0>\n",
      "Traceback (most recent call last):\n",
      "  File \"/home/zal/anaconda3/envs/amass/lib/python3.7/site-packages/imageio/core/format.py\", line 241, in __del__\n",
      "    self.close()\n",
      "  File \"/home/zal/anaconda3/envs/amass/lib/python3.7/site-packages/imageio/core/format.py\", line 252, in close\n",
      "    self._close()\n",
      "  File \"/home/zal/anaconda3/envs/amass/lib/python3.7/site-packages/imageio/plugins/ffmpeg.py\", line 342, in _close\n",
      "    self._read_gen.close()\n",
      "  File \"/home/zal/anaconda3/envs/amass/lib/python3.7/site-packages/imageio_ffmpeg/_io.py\", line 193, in read_frames\n",
      "    p.communicate(b\"q\")\n",
      "  File \"/home/zal/anaconda3/envs/amass/lib/python3.7/subprocess.py\", line 939, in communicate\n",
      "    stdout, stderr = self._communicate(input, endtime, timeout)\n",
      "  File \"/home/zal/anaconda3/envs/amass/lib/python3.7/subprocess.py\", line 1701, in _communicate\n",
      "    data = os.read(key.fd, 32768)\n",
      "KeyboardInterrupt: \n"
     ]
    },
    {
     "name": "stdout",
     "output_type": "stream",
     "text": [
      "8255 54 /mnt/Alfheim/Data/MEVA/umd_cmu_merge_v3/proposals/frames/2018-03-15_15-35-00_15-40-00_bus_G331_119\n",
      "1782 75 /mnt/Alfheim/Data/MEVA/umd_cmu_merge_v3/proposals/frames/2018-03-15_15-35-00_15-40-00_bus_G508_120\n",
      "4825 59 /mnt/Alfheim/Data/MEVA/umd_cmu_merge_v3/proposals/frames/2018-03-15_15-45-00_15-50-00_bus_G331_121\n",
      "2775 84 /mnt/Alfheim/Data/MEVA/umd_cmu_merge_v3/proposals/frames/2018-03-15_15-45-00_15-50-00_bus_G331_122\n",
      "8897 35 /mnt/Alfheim/Data/MEVA/umd_cmu_merge_v3/proposals/frames/2018-03-15_15-50-00_15-55-00_bus_G331_123\n",
      "6221 30 /mnt/Alfheim/Data/MEVA/umd_cmu_merge_v3/proposals/frames/2018-03-15_15-50-00_15-55-00_bus_G331_124\n",
      "2110 105 /mnt/Alfheim/Data/MEVA/umd_cmu_merge_v3/proposals/frames/2018-03-15_15-50-00_15-55-00_bus_G331_125\n",
      "560 81 /mnt/Alfheim/Data/MEVA/umd_cmu_merge_v3/proposals/frames/2018-03-07_17-20-00_17-25-00_bus_G331_126\n"
     ]
    },
    {
     "name": "stderr",
     "output_type": "stream",
     "text": [
      "Exception ignored in: <function Format._BaseReaderWriter.__del__ at 0x7f78b24179e0>\n",
      "Traceback (most recent call last):\n",
      "  File \"/home/zal/anaconda3/envs/amass/lib/python3.7/site-packages/imageio/core/format.py\", line 241, in __del__\n",
      "    self.close()\n",
      "  File \"/home/zal/anaconda3/envs/amass/lib/python3.7/site-packages/imageio/core/format.py\", line 252, in close\n",
      "    self._close()\n",
      "  File \"/home/zal/anaconda3/envs/amass/lib/python3.7/site-packages/imageio/plugins/ffmpeg.py\", line 342, in _close\n",
      "    self._read_gen.close()\n",
      "  File \"/home/zal/anaconda3/envs/amass/lib/python3.7/site-packages/imageio_ffmpeg/_io.py\", line 193, in read_frames\n",
      "    p.communicate(b\"q\")\n",
      "  File \"/home/zal/anaconda3/envs/amass/lib/python3.7/subprocess.py\", line 939, in communicate\n",
      "    stdout, stderr = self._communicate(input, endtime, timeout)\n",
      "  File \"/home/zal/anaconda3/envs/amass/lib/python3.7/subprocess.py\", line 1701, in _communicate\n",
      "    data = os.read(key.fd, 32768)\n",
      "KeyboardInterrupt: \n"
     ]
    },
    {
     "name": "stdout",
     "output_type": "stream",
     "text": [
      "811 70 /mnt/Alfheim/Data/MEVA/umd_cmu_merge_v3/proposals/frames/2018-03-07_17-20-00_17-25-00_bus_G331_127\n",
      "3020 79 /mnt/Alfheim/Data/MEVA/umd_cmu_merge_v3/proposals/frames/2018-03-07_17-20-00_17-25-00_bus_G331_128\n",
      "3765 125 /mnt/Alfheim/Data/MEVA/umd_cmu_merge_v3/proposals/frames/2018-03-07_17-20-00_17-25-00_bus_G331_129\n",
      "4849 76 /mnt/Alfheim/Data/MEVA/umd_cmu_merge_v3/proposals/frames/2018-03-07_17-20-00_17-25-00_bus_G331_130\n",
      "5183 82 /mnt/Alfheim/Data/MEVA/umd_cmu_merge_v3/proposals/frames/2018-03-07_17-20-00_17-25-00_bus_G331_131\n",
      "5482 50 /mnt/Alfheim/Data/MEVA/umd_cmu_merge_v3/proposals/frames/2018-03-07_17-20-00_17-25-00_bus_G331_132\n",
      "7882 343 /mnt/Alfheim/Data/MEVA/umd_cmu_merge_v3/proposals/frames/2018-03-07_17-20-00_17-25-00_bus_G331_133\n",
      "8144 64 /mnt/Alfheim/Data/MEVA/umd_cmu_merge_v3/proposals/frames/2018-03-07_17-20-00_17-25-00_bus_G331_134\n"
     ]
    }
   ],
   "source": [
    "for action_id, annotation in action_json.items():\n",
    "    # Normalize parameters\n",
    "    video_name = annotation.video_name.replace('.', '_')\n",
    "    anno = edict(annotation)\n",
    "        \n",
    "    video_path = osp.join(video_dir, f'{video_name}.avi')\n",
    "    output_dir = osp.join(output_frames_dir, f'{video_name}_{action_id}')\n",
    "    print(datetime.datetime.now().time(), anno.start_frame, anno.duration, f'{video_name}_{action_id}')\n",
    "    \n",
    "    os.makedirs(output_dir, exist_ok=True)\n",
    "    extract_frames(video_path, anno.bbox, anno.start_frame, anno.end_frame, output_dir)"
   ]
  },
  {
   "cell_type": "markdown",
   "metadata": {},
   "source": [
    "### Extract empty seats"
   ]
  },
  {
   "cell_type": "code",
   "execution_count": null,
   "metadata": {},
   "outputs": [],
   "source": [
    "empty_frames_dir = '/mnt/Alfheim/Data/MEVA/umd_cmu_merge_v3/proposals/empty_frames'\n",
    "\n",
    "edata = edict(video_path=,\n",
    "              bbox=,\n",
    "              start_frame=,\n",
    "              end_frame=,\n",
    "              output_dir=)\n",
    "\n",
    "extract_frames(edata.video_path, \n",
    "               edata.bbox, \n",
    "               edata.start_frame, \n",
    "               edata.end_frame, \n",
    "               edata.output_dir)"
   ]
  }
 ],
 "metadata": {
  "kernelspec": {
   "display_name": "Python 3",
   "language": "python",
   "name": "python3"
  },
  "language_info": {
   "codemirror_mode": {
    "name": "ipython",
    "version": 3
   },
   "file_extension": ".py",
   "mimetype": "text/x-python",
   "name": "python",
   "nbconvert_exporter": "python",
   "pygments_lexer": "ipython3",
   "version": "3.7.4"
  }
 },
 "nbformat": 4,
 "nbformat_minor": 2
}
