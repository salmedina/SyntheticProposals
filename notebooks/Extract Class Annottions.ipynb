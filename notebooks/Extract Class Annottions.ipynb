{
 "cells": [
  {
   "cell_type": "code",
   "execution_count": 2,
   "metadata": {},
   "outputs": [],
   "source": [
    "import json\n",
    "import datetime\n",
    "import numpy as np\n",
    "from glob import glob\n",
    "import os.path as osp\n",
    "from easydict import EasyDict as edict\n",
    "from collections import defaultdict\n",
    "\n",
    "train_path = '/mnt/Alfheim/Data/MEVA/umd_cmu_merge_v3/train'\n",
    "action_output_path = '/home/zal/Devel/SyntheticProposals/data/umd_v3/sitting_down.json'"
   ]
  },
  {
   "cell_type": "markdown",
   "metadata": {},
   "source": [
    "### Extract the annotations for specific action"
   ]
  },
  {
   "cell_type": "code",
   "execution_count": 3,
   "metadata": {},
   "outputs": [],
   "source": [
    "def get_name(input_path):\n",
    "    return osp.splitext(osp.basename(input_path))[0]\n",
    "\n",
    "def get_bbox_from_traj(traj):\n",
    "    bboxes = np.array([bbox for _, bbox in traj.items()])\n",
    "    y1, x1, y2, x2 = [int(np.min(bboxes[:, 0])), \n",
    "                        int(np.min(bboxes[:, 1])), \n",
    "                        int(np.max(bboxes[:, 2])), \n",
    "                        int(np.max(bboxes[:, 3]))]\n",
    "    w, h = x2-x1, y2-y1\n",
    "    cx = x1 + w//2\n",
    "    cy = y1 + h//2\n",
    "    side = w if w > h else h\n",
    "    hside = side//2\n",
    "    return [cy-hside, cx-hside, cy+hside, cx+hside]"
   ]
  },
  {
   "cell_type": "code",
   "execution_count": 4,
   "metadata": {
    "scrolled": true
   },
   "outputs": [
    {
     "name": "stdout",
     "output_type": "stream",
     "text": [
      "Total actions: 315\n",
      "{'start_frame': 195, 'end_frame': 253, 'event_type': 'person_sitting_down', 'video_name': '2018-03-07.16-50-00.16-55-00.bus.G331', 'bbox': [1384, 170, 1738, 524], 'duration': 58}\n"
     ]
    }
   ],
   "source": [
    "action = 'person_sitting_down'\n",
    "action_json = dict()\n",
    "index = 0\n",
    "json_path_list = glob(osp.join(train_path, '*.json'))\n",
    "for path_list in json_path_list:\n",
    "    video_json = edict(json.load(open(path_list)))\n",
    "    for key in video_json.keys():\n",
    "        video_anno = video_json[key]\n",
    "        duration = video_anno.end_frame - video_anno.start_frame\n",
    "        if (video_anno.event_type == action) and (duration < 1000):\n",
    "            action_json[index] = video_anno\n",
    "            action_json[index].video_name = get_name(path_list)\n",
    "            action_json[index].bbox = get_bbox_from_traj(video_anno.trajectory)\n",
    "            action_json[index].duration = action_json[index].end_frame - action_json[index].start_frame\n",
    "            del action_json[index]['objects']\n",
    "            del action_json[index]['trajectory']\n",
    "            index += 1\n",
    "\n",
    "with open(action_output_path, 'w') as output_file:\n",
    "    json.dump(action_json, output_file)\n",
    "\n",
    "print(f'Total actions: {len(action_json)}')\n",
    "# Test the output\n",
    "print(action_json[1])"
   ]
  },
  {
   "cell_type": "markdown",
   "metadata": {},
   "source": [
    "### Extract Frames"
   ]
  },
  {
   "cell_type": "code",
   "execution_count": 5,
   "metadata": {},
   "outputs": [],
   "source": [
    "import os\n",
    "import imageio\n",
    "from PIL import Image\n",
    "\n",
    "video_dir ='/mnt/Alfheim/Data/MEVA/umd_cmu_merge_v3/videos'\n",
    "output_frames_dir = '/mnt/Alfheim/Data/MEVA/umd_cmu_merge_v3/proposals/frames'"
   ]
  },
  {
   "cell_type": "code",
   "execution_count": 6,
   "metadata": {},
   "outputs": [],
   "source": [
    "def extract_frames(video_path, bbox, start_frame, end_frame, output_dir):\n",
    "    video_reader = imageio.get_reader(video_path)\n",
    "    for frame_idx, frame_arr in enumerate(video_reader):\n",
    "        if frame_idx > end_frame:\n",
    "            break\n",
    "        if (frame_idx >= start_frame) and (frame_idx <= end_frame):\n",
    "            Image.fromarray(frame_arr).crop(bbox).save(osp.join(output_dir, f'{frame_idx}.png'))"
   ]
  },
  {
   "cell_type": "code",
   "execution_count": null,
   "metadata": {
    "scrolled": true
   },
   "outputs": [],
   "source": [
    "for action_id, annotation in action_json.items():\n",
    "    # Normalize parameters\n",
    "    video_name = annotation.video_name.replace('.', '_')\n",
    "    anno = edict(annotation)\n",
    "        \n",
    "    video_path = osp.join(video_dir, f'{video_name}.avi')\n",
    "    output_dir = osp.join(output_frames_dir, f'{video_name}_{action_id}')\n",
    "    \n",
    "    try:\n",
    "        os.makedirs(output_dir, exist_ok=False)\n",
    "        print(datetime.datetime.now().time(), anno.start_frame, anno.duration, f'{video_name}_{action_id}')\n",
    "    except:\n",
    "        continue\n",
    "    extract_frames(video_path, anno.bbox, anno.start_frame, anno.end_frame, output_dir)"
   ]
  },
  {
   "cell_type": "markdown",
   "metadata": {},
   "source": [
    "### Extract empty seats"
   ]
  },
  {
   "cell_type": "code",
   "execution_count": 24,
   "metadata": {},
   "outputs": [],
   "source": [
    "empty_frames_dir = '/mnt/Alfheim/Data/MEVA/umd_cmu_merge_v3/proposals/empty_frames'\n",
    "\n",
    "prop_11 = edict(video_path=osp.join(video_dir, '2018-03-07_16-55-00_17-00-00_bus_G331.avi'),\n",
    "              bbox=[448, 160, 764, 476],\n",
    "              start_frame=0,\n",
    "              end_frame=56,\n",
    "              output_dir=osp.join(empty_frames_dir, '2018-03-07_16-55-00_17-00-00_bus_G331_11'))\n",
    "\n",
    "prop_11_alt = edict(video_path=osp.join(video_dir, '2018-03-07_16-55-00_17-00-00_bus_G331.avi'),\n",
    "              bbox=[623, 208, 939, 535],\n",
    "              start_frame=0,\n",
    "              end_frame=56,\n",
    "              output_dir=osp.join(empty_frames_dir, '2018-03-07_16-55-00_17-00-00_bus_G331_11_alt'))\n",
    "\n",
    "prop_18 = edict(video_path=osp.join(video_dir, '2018-03-07_16-55-00_17-00-00_bus_G331.avi'),\n",
    "              bbox=[694, 128, 984, 418],\n",
    "              start_frame=0,\n",
    "              end_frame=532,\n",
    "              output_dir=osp.join(empty_frames_dir, '2018-03-07_16-55-00_17-00-00_bus_G331_18'))\n",
    "\n",
    "prop_22 = edict(video_path=osp.join(video_dir,'2018-03-07_16-55-00_17-00-00_bus_G331.avi'),\n",
    "               bbox=[325, 202, 527, 404],\n",
    "               start_frame=0,\n",
    "               end_frame=67,\n",
    "               output_dir=osp.join(empty_frames_dir, '2018-03-07_16-55-00_17-00-00_bus_G331_22'))"
   ]
  },
  {
   "cell_type": "code",
   "execution_count": 25,
   "metadata": {},
   "outputs": [
    {
     "name": "stdout",
     "output_type": "stream",
     "text": [
      "{'video_path': '/mnt/Alfheim/Data/MEVA/umd_cmu_merge_v3/videos/2018-03-07_16-55-00_17-00-00_bus_G331.avi', 'bbox': [623, 208, 939, 535], 'start_frame': 0, 'end_frame': 56, 'output_dir': '/mnt/Alfheim/Data/MEVA/umd_cmu_merge_v3/proposals/empty_frames/2018-03-07_16-55-00_17-00-00_bus_G331_11_alt'}\n"
     ]
    }
   ],
   "source": [
    "prop_data = prop_11_alt\n",
    "print(prop_data)\n",
    "extract_frames(prop_data.video_path, \n",
    "               prop_data.bbox, \n",
    "               prop_data.start_frame, \n",
    "               prop_data.end_frame, \n",
    "               prop_data.output_dir)"
   ]
  }
 ],
 "metadata": {
  "kernelspec": {
   "display_name": "Python 3",
   "language": "python",
   "name": "python3"
  },
  "language_info": {
   "codemirror_mode": {
    "name": "ipython",
    "version": 3
   },
   "file_extension": ".py",
   "mimetype": "text/x-python",
   "name": "python",
   "nbconvert_exporter": "python",
   "pygments_lexer": "ipython3",
   "version": "3.7.4"
  }
 },
 "nbformat": 4,
 "nbformat_minor": 2
}
