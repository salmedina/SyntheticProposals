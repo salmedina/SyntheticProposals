{
 "cells": [
  {
   "cell_type": "code",
   "execution_count": 1,
   "metadata": {},
   "outputs": [],
   "source": [
    "import numpy as np\n",
    "import matplotlib.pyplot as plt\n",
    "import seaborn as sns"
   ]
  },
  {
   "cell_type": "code",
   "execution_count": 36,
   "metadata": {},
   "outputs": [
    {
     "data": {
      "text/plain": [
       "(array([ 4.,  8.,  9., 17., 17., 19., 12.,  8.,  4.,  2.]),\n",
       " array([-177.73489685, -140.8974054 , -104.05991395,  -67.22242251,\n",
       "         -30.38493106,    6.45256039,   43.29005184,   80.12754329,\n",
       "         116.96503474,  153.80252618,  190.64001763]),\n",
       " <a list of 10 Patch objects>)"
      ]
     },
     "execution_count": 36,
     "metadata": {},
     "output_type": "execute_result"
    },
    {
     "data": {
      "image/png": "[encoded data removed]",
      "text/plain": [
       "<Figure size 432x288 with 1 Axes>"
      ]
     },
     "metadata": {
      "needs_background": "light"
     },
     "output_type": "display_data"
    }
   ],
   "source": [
    "xn = np.random.normal(-45., 60., 50)\n",
    "xp = np.random.normal(45., 60., 50)\n",
    "plt.hist(np.concatenate((xn, xp)))"
   ]
  },
  {
   "cell_type": "code",
   "execution_count": 52,
   "metadata": {},
   "outputs": [
    {
     "data": {
      "text/plain": [
       "(array([12., 22., 15.,  1.,  0.,  3., 16., 18., 11.,  2.]),\n",
       " array([-68.67137624, -53.12276497, -37.5741537 , -22.02554244,\n",
       "         -6.47693117,   9.0716801 ,  24.62029137,  40.16890263,\n",
       "         55.7175139 ,  71.26612517,  86.81473643]),\n",
       " <a list of 10 Patch objects>)"
      ]
     },
     "execution_count": 52,
     "metadata": {},
     "output_type": "execute_result"
    },
    {
     "data": {
      "image/png": "[encoded data removed]",
      "text/plain": [
       "<Figure size 432x288 with 1 Axes>"
      ]
     },
     "metadata": {
      "needs_background": "light"
     },
     "output_type": "display_data"
    }
   ],
   "source": [
    "mean = [-45., 45.]\n",
    "cov = [[180., 0], [0., 180.]]\n",
    "x = np.random.multivariate_normal(mean, cov, 50)\n",
    "plt.hist(np.concatenate((x[:,0],x[:,1])))"
   ]
  }
 ],
 "metadata": {
  "kernelspec": {
   "display_name": "Python 3",
   "language": "python",
   "name": "python3"
  },
  "language_info": {
   "codemirror_mode": {
    "name": "ipython",
    "version": 3
   },
   "file_extension": ".py",
   "mimetype": "text/x-python",
   "name": "python",
   "nbconvert_exporter": "python",
   "pygments_lexer": "ipython3",
   "version": "3.7.4"
  }
 },
 "nbformat": 4,
 "nbformat_minor": 2
}
